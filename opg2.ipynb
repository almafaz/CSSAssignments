{
 "cells": [
  {
   "cell_type": "markdown",
   "metadata": {},
   "source": [
    "# Formalia:\n",
    "\n",
    "Please read the [assignment overview page](https://github.com/lalessan/comsocsci2022/wiki/Assignments) carefully before proceeding. This page contains information about formatting (including formats etc), group sizes, and many other aspects of handing in the assignment. \n",
    "\n",
    "_If you fail to follow these simple instructions, it will negatively impact your grade!_\n",
    "\n",
    "**Due date and time**: The assignment is due on Tuesday, April 5th at 23:55. Hand in your Jupyter notebook file (with extension `.ipynb`) via DTU Learn _(Course Content, Assignemnts, Assignment 2)_\n",
    "\n",
    "\n",
    "Remember to include in the first cell of your notebook:\n",
    "* the link to your group's Git repository\n",
    "* group members' contributions"
   ]
  },
  {
   "cell_type": "markdown",
   "metadata": {},
   "source": [
    "#### Link to Github repository: \n",
    "https://github.com/almafaz/CSSAssignments\n",
    "\n",
    "The work was distributed equally among all group members."
   ]
  },
  {
   "cell_type": "markdown",
   "metadata": {},
   "source": [
    "# Computational Social Science 2022 - Assignment 2\n",
    "#### by Alma Fazlagic (s194271), Natasha Norsker (s194270) & Simone von Mehren (s190739)"
   ]
  },
  {
   "cell_type": "code",
   "execution_count": 2,
   "metadata": {},
   "outputs": [],
   "source": [
    "import pandas as pd\n",
    "import numpy as np\n",
    "import datetime as dt\n",
    "import math\n",
    "\n",
    "import nltk\n",
    "from nltk.corpus import stopwords\n",
    "from nltk.stem import PorterStemmer\n",
    "from nltk import word_tokenize\n",
    "import re\n",
    "stopword_vocab = stopwords.words('english')\n",
    "ps = PorterStemmer()\n",
    "\n",
    "\n",
    "from collections import Counter\n",
    "import itertools\n",
    "from operator import itemgetter\n",
    "\n",
    "\n",
    "from wordcloud import WordCloud\n",
    "import shifterator as sh\n",
    "import matplotlib.pyplot as plt"
   ]
  },
  {
   "cell_type": "markdown",
   "metadata": {},
   "source": [
    "## Part 2: Sentiment analysis"
   ]
  },
  {
   "cell_type": "markdown",
   "metadata": {},
   "source": [
    "_Exercise: Creating Word Shifts_\n",
    ">    1. Pick a day of your choice in 2020. We call it $d$. It is more interesting if you pick a day where you expect something relevant to occur (e.g. Christmas, New Year, Corona starting, the market crashes...).\n",
    ">    2. Build two lists $l$ and $l_{ref}$ containing all tokens for submissions posted on r/wallstreebets on day $d$, and in the 7 days preceding day $d$, respectively. \n",
    ">    3. For each token $i$, compute the relative frequency in the two lists $l$ and $l_{ref}$. We call them $p(i,l)$ and $p(i,l_{ref})$, respectively. The relative frequency is computed as the number of times a token occurs over the total length of the document. Store the result in a dictionary.\n",
    ">    4. For each token $i$, compute the difference in relative frequency $\\delta p(i) = p(i,l) - p(i,l_{ref})$. Store the values in a dictionary. Print the top 10 tokens (those with largest relative frequency). Do you notice anything interesting?\n",
    ">    5. Now, for each token, compute the happiness $h(i) = labMT(i) - 5$, using the labMT dictionary. Here, we subtract $5$, so that positive tokens will have a positive value and negative tokens will have a negative value. Then, compute the product $\\delta \\Phi = h(i)\\cdot \\delta p(i)$. Store the results in a dictionary. \n",
    ">    6. Print the top 10 tokens, ordered by the absolute value of $|\\delta \\Phi|$. Explain in your own words the meaning of $\\delta \\Phi$. If that is unclear, have a look at [this page](https://shifterator.readthedocs.io/en/latest/cookbook/weighted_avg_shifts.html).\n",
    ">    7. Now install the [``shifterator``](https://shifterator.readthedocs.io/en/latest/installation.html) Python package. We will use it for plotting Word Shifts. \n",
    ">    8. Use the function ``shifterator.WeightedAvgShift`` to plot the WordShift, showing which words contributed the most to make your day of choice _d_ happier or more sad then days in the preceding 7 days. Comment on the figure. \n",
    ">    9. How do words that you printed in step 6 relate to those shown by the WordShift? "
   ]
  },
  {
   "cell_type": "code",
   "execution_count": null,
   "metadata": {},
   "outputs": [],
   "source": []
  },
  {
   "cell_type": "markdown",
   "metadata": {},
   "source": [
    "_Exercise: Creating Word Shifts_\n",
    ">    1. Pick a day of your choice in 2020. We call it $d$. It is more interesting if you pick a day where you expect something relevant to occur (e.g. Christmas, New Year, Corona starting, the market crashes...).\n",
    "\n",
    "The day we have chosen is the fourth of November 2020. The reason for choosing this date was because the United States presidential election was held just the day before. Choosing the day after the election gives people enough time to post about it online. There was a lot of controversy before, during and after the Election day, since Trump supporters tried to overturn the election by saying there was voter fraud. From the election and until January 2021 there was a lot of unrest and trump supporters even stormed the capitol in January 2021. Since the US election have a direct effect on economy and stocks worldwide, it is reasonable to assume that the election will influence the discourse online.\n",
    "\n"
   ]
  },
  {
   "cell_type": "markdown",
   "metadata": {},
   "source": [
    "We start by downloading the happiness data"
   ]
  },
  {
   "cell_type": "code",
   "execution_count": 3,
   "metadata": {},
   "outputs": [],
   "source": [
    "labMT_data = pd.read_csv(\"Assignment2_files/Hedonometer.csv\")"
   ]
  },
  {
   "cell_type": "code",
   "execution_count": 4,
   "metadata": {},
   "outputs": [
    {
     "data": {
      "text/html": [
       "<div>\n",
       "<style scoped>\n",
       "    .dataframe tbody tr th:only-of-type {\n",
       "        vertical-align: middle;\n",
       "    }\n",
       "\n",
       "    .dataframe tbody tr th {\n",
       "        vertical-align: top;\n",
       "    }\n",
       "\n",
       "    .dataframe thead th {\n",
       "        text-align: right;\n",
       "    }\n",
       "</style>\n",
       "<table border=\"1\" class=\"dataframe\">\n",
       "  <thead>\n",
       "    <tr style=\"text-align: right;\">\n",
       "      <th></th>\n",
       "      <th>Rank</th>\n",
       "      <th>Word</th>\n",
       "      <th>Word in English</th>\n",
       "      <th>Happiness Score</th>\n",
       "      <th>Standard Deviation of Ratings</th>\n",
       "    </tr>\n",
       "  </thead>\n",
       "  <tbody>\n",
       "    <tr>\n",
       "      <th>0</th>\n",
       "      <td>0</td>\n",
       "      <td>laughter</td>\n",
       "      <td>laughter</td>\n",
       "      <td>8.50</td>\n",
       "      <td>0.93</td>\n",
       "    </tr>\n",
       "    <tr>\n",
       "      <th>1</th>\n",
       "      <td>1</td>\n",
       "      <td>happiness</td>\n",
       "      <td>happiness</td>\n",
       "      <td>8.44</td>\n",
       "      <td>0.97</td>\n",
       "    </tr>\n",
       "    <tr>\n",
       "      <th>2</th>\n",
       "      <td>2</td>\n",
       "      <td>love</td>\n",
       "      <td>love</td>\n",
       "      <td>8.42</td>\n",
       "      <td>1.11</td>\n",
       "    </tr>\n",
       "    <tr>\n",
       "      <th>3</th>\n",
       "      <td>3</td>\n",
       "      <td>happy</td>\n",
       "      <td>happy</td>\n",
       "      <td>8.30</td>\n",
       "      <td>0.99</td>\n",
       "    </tr>\n",
       "    <tr>\n",
       "      <th>4</th>\n",
       "      <td>4</td>\n",
       "      <td>laughed</td>\n",
       "      <td>laughed</td>\n",
       "      <td>8.26</td>\n",
       "      <td>1.16</td>\n",
       "    </tr>\n",
       "    <tr>\n",
       "      <th>...</th>\n",
       "      <td>...</td>\n",
       "      <td>...</td>\n",
       "      <td>...</td>\n",
       "      <td>...</td>\n",
       "      <td>...</td>\n",
       "    </tr>\n",
       "    <tr>\n",
       "      <th>10182</th>\n",
       "      <td>10182</td>\n",
       "      <td>quarantined</td>\n",
       "      <td>quarantined</td>\n",
       "      <td>2.14</td>\n",
       "      <td>1.01</td>\n",
       "    </tr>\n",
       "    <tr>\n",
       "      <th>10183</th>\n",
       "      <td>10183</td>\n",
       "      <td>sanitizer</td>\n",
       "      <td>sanitizer</td>\n",
       "      <td>5.14</td>\n",
       "      <td>1.55</td>\n",
       "    </tr>\n",
       "    <tr>\n",
       "      <th>10184</th>\n",
       "      <td>10184</td>\n",
       "      <td>self-quarantine</td>\n",
       "      <td>self-quarantine</td>\n",
       "      <td>3.14</td>\n",
       "      <td>1.80</td>\n",
       "    </tr>\n",
       "    <tr>\n",
       "      <th>10185</th>\n",
       "      <td>10185</td>\n",
       "      <td>ventilator</td>\n",
       "      <td>ventilator</td>\n",
       "      <td>2.98</td>\n",
       "      <td>1.70</td>\n",
       "    </tr>\n",
       "    <tr>\n",
       "      <th>10186</th>\n",
       "      <td>10186</td>\n",
       "      <td>ventilators</td>\n",
       "      <td>ventilators</td>\n",
       "      <td>3.26</td>\n",
       "      <td>1.97</td>\n",
       "    </tr>\n",
       "  </tbody>\n",
       "</table>\n",
       "<p>10187 rows × 5 columns</p>\n",
       "</div>"
      ],
      "text/plain": [
       "        Rank             Word  Word in English  Happiness Score  \\\n",
       "0          0         laughter         laughter             8.50   \n",
       "1          1        happiness        happiness             8.44   \n",
       "2          2             love             love             8.42   \n",
       "3          3            happy            happy             8.30   \n",
       "4          4          laughed          laughed             8.26   \n",
       "...      ...              ...              ...              ...   \n",
       "10182  10182      quarantined      quarantined             2.14   \n",
       "10183  10183        sanitizer        sanitizer             5.14   \n",
       "10184  10184  self-quarantine  self-quarantine             3.14   \n",
       "10185  10185       ventilator       ventilator             2.98   \n",
       "10186  10186      ventilators      ventilators             3.26   \n",
       "\n",
       "       Standard Deviation of Ratings  \n",
       "0                               0.93  \n",
       "1                               0.97  \n",
       "2                               1.11  \n",
       "3                               0.99  \n",
       "4                               1.16  \n",
       "...                              ...  \n",
       "10182                           1.01  \n",
       "10183                           1.55  \n",
       "10184                           1.80  \n",
       "10185                           1.70  \n",
       "10186                           1.97  \n",
       "\n",
       "[10187 rows x 5 columns]"
      ]
     },
     "execution_count": 4,
     "metadata": {},
     "output_type": "execute_result"
    }
   ],
   "source": [
    "labMT_data"
   ]
  },
  {
   "cell_type": "code",
   "execution_count": 5,
   "metadata": {},
   "outputs": [],
   "source": [
    "lab_dict = dict(zip(labMT_data.Word, labMT_data[\"Happiness Score\"]))\n",
    "\n",
    "def get_avg_score(doc):\n",
    "    available_words = [w for w in doc if w in lab_dict.keys()]\n",
    "    word_frequencies = nltk.FreqDist(available_words)\n",
    "    total_frequency = len(available_words)\n",
    "    \n",
    "    total = 0\n",
    "    \n",
    "    for word, weight in word_frequencies.items():\n",
    "        total += lab_dict[word] * weight\n",
    "    \n",
    "    return round(total/total_frequency,4)"
   ]
  },
  {
   "cell_type": "code",
   "execution_count": 6,
   "metadata": {},
   "outputs": [],
   "source": [
    "submissions_p2 = pd.read_csv(\"Assignment2_files/wallstreet_subs.csv\")\n",
    "submissions_p2[\"text\"] = submissions_p2.title + \" \" + submissions_p2.selftext\n",
    "submissions_p2[\"date\"]=submissions_p2[\"created_utc\"].apply(lambda x: dt.datetime.utcfromtimestamp(x)).dt.date\n",
    "submissions_p2[\"date\"] = pd.to_datetime(submissions_p2['date'])"
   ]
  },
  {
   "cell_type": "code",
   "execution_count": 7,
   "metadata": {},
   "outputs": [],
   "source": [
    "#we do not stem this time\n",
    "def tokenize_text(text):\n",
    "    filtered = [w.lower() for w in word_tokenize(text) if w.isalpha() and w.lower() not in stopword_vocab]\n",
    "    return filtered"
   ]
  },
  {
   "cell_type": "code",
   "execution_count": 8,
   "metadata": {},
   "outputs": [],
   "source": [
    "# apply the tokenize function\n",
    "submissions_p2[\"tokens\"] = submissions_p2.text.apply(tokenize_text)"
   ]
  },
  {
   "cell_type": "code",
   "execution_count": 9,
   "metadata": {},
   "outputs": [],
   "source": [
    "documents = pd.DataFrame({\"date\": submissions_p2[\"date\"],\n",
    "                         \"tokens\": submissions_p2.tokens})\n",
    "documents = documents.groupby('date').agg(sum)\n",
    "documents[\"length\"] = documents.tokens.apply(len)"
   ]
  },
  {
   "cell_type": "code",
   "execution_count": 10,
   "metadata": {},
   "outputs": [],
   "source": [
    "documents[\"avg_score\"] = documents.tokens.apply(get_avg_score)"
   ]
  },
  {
   "cell_type": "markdown",
   "metadata": {},
   "source": [
    ">    2. Build two lists $l$ and $l_{ref}$ containing all tokens for submissions posted on r/wallstreebets on day $d$, and in the 7 days preceding day $d$, respectively. "
   ]
  },
  {
   "cell_type": "code",
   "execution_count": 11,
   "metadata": {},
   "outputs": [
    {
     "name": "stdout",
     "output_type": "stream",
     "text": [
      "2020-11-04 00:00:00\n"
     ]
    }
   ],
   "source": [
    "# we create a datetime object with the specific date\n",
    "d = dt.datetime(2020, 11, 4)\n",
    "\n",
    "#we find the date 7 days before the interesting event\n",
    "d_min = d-dt.timedelta(days=7)\n",
    "\n",
    "print(d)"
   ]
  },
  {
   "cell_type": "code",
   "execution_count": 12,
   "metadata": {},
   "outputs": [],
   "source": [
    "l = documents.tokens[d]\n",
    "l_ref = np.concatenate(documents[(documents.index < d) \n",
    "          & (documents.index > d_min)].tokens.values)"
   ]
  },
  {
   "cell_type": "markdown",
   "metadata": {},
   "source": [
    "> 3. For each token $i$, compute the relative frequency in the two lists $l$ and $l_{ref}$. We call them $p(i,l)$ and $p(i,l_{ref})$, respectively. The relative frequency is computed as the number of times a token occurs over the total length of the document. Store the result in a dictionary."
   ]
  },
  {
   "cell_type": "code",
   "execution_count": 13,
   "metadata": {},
   "outputs": [],
   "source": [
    "p = dict([(key, value/len(l)) for key,value in Counter(l).items()])\n",
    "p_ref = dict([(key, value/len(l_ref)) for key,value in Counter(l_ref).items()])\n",
    "\n",
    "all_tokens = set(p.keys()).union(set(p_ref.keys()))\n",
    "dp = dict([(token,p.get(token,0) - p_ref.get(token,0)) for token in all_tokens])"
   ]
  },
  {
   "cell_type": "markdown",
   "metadata": {},
   "source": [
    "> 4. For each token $i$, compute the difference in relative frequency $\\delta p(i) = p(i,l) - p(i,l_{ref})$. Store the values in a dictionary. Print the top 10 tokens (those with largest relative frequency). Do you notice anything interesting?"
   ]
  },
  {
   "cell_type": "code",
   "execution_count": 14,
   "metadata": {},
   "outputs": [
    {
     "data": {
      "text/plain": [
       "[('amp', 0.007338542332463071),\n",
       " ('nio', 0.0037964646714751804),\n",
       " ('last', 0.002818293388428166),\n",
       " ('trump', 0.0026705153777616033),\n",
       " ('tomorrow', 0.0020760827505035577),\n",
       " ('biden', 0.002060403545079143),\n",
       " ('https', 0.0019530459741654675),\n",
       " ('baba', 0.0015342300447261632),\n",
       " ('morning', 0.0014082229766795152),\n",
       " ('money', 0.0012693078558121554)]"
      ]
     },
     "execution_count": 14,
     "metadata": {},
     "output_type": "execute_result"
    }
   ],
   "source": [
    "sorted(dp.items(),key= lambda x:x[1], reverse=True)[:10]"
   ]
  },
  {
   "cell_type": "markdown",
   "metadata": {},
   "source": [
    "The interesting things to take from this is that 'trump', 'tomorrow', 'biden', 'last' and 'morning' could all be related to the election and they have high relative frequency. Since the election was on the third, but there were delays in the final election until the 7th of November due to vote counting and mail-in ballots, the 'tomorrow' and 'morning' could therefore refer to the election as well.\n",
    "\n",
    "Another interesting thing is that although the US election is such a huge event, 'nio' and 'amp' still have a larger relative frequency."
   ]
  },
  {
   "cell_type": "markdown",
   "metadata": {},
   "source": [
    ">    5. Now, for each token, compute the happiness $h(i) = labMT(i) - 5$, using the labMT dictionary. Here, we subtract $5$, so that positive tokens will have a positive value and negative tokens will have a negative value. Then, compute the product $\\delta \\Phi = h(i)\\cdot \\delta p(i)$. Store the results in a dictionary. "
   ]
  },
  {
   "cell_type": "code",
   "execution_count": 15,
   "metadata": {},
   "outputs": [],
   "source": [
    "h = dict([(token,lab_dict.get(token,np.nan)-5) for token in all_tokens])\n",
    "dPhi = dict([(token, h[token] * dp[token]) for token in all_tokens if not np.isnan(h[token])])"
   ]
  },
  {
   "cell_type": "markdown",
   "metadata": {},
   "source": [
    ">    6. Print the top 10 tokens, ordered by the absolute value of $|\\delta \\Phi|$. Explain in your own words the meaning of $\\delta \\Phi$. If that is unclear, have a look at [this page](https://shifterator.readthedocs.io/en/latest/cookbook/weighted_avg_shifts.html)."
   ]
  },
  {
   "cell_type": "code",
   "execution_count": 16,
   "metadata": {},
   "outputs": [
    {
     "data": {
      "text/plain": [
       "[('earnings', -0.005824462957823201),\n",
       " ('last', -0.0035510496694194883),\n",
       " ('amp', 0.003228958626283754),\n",
       " ('money', 0.002919408068367957),\n",
       " ('cash', 0.002798025394218651),\n",
       " ('tomorrow', 0.0024497776455941977),\n",
       " ('shit', 0.002344874955997456),\n",
       " ('morning', 0.0021968278436200433),\n",
       " ('good', 0.00209963106961596),\n",
       " ('happiness', 0.0018233496982490729),\n",
       " ('best', 0.0017986092316858247)]"
      ]
     },
     "execution_count": 16,
     "metadata": {},
     "output_type": "execute_result"
    }
   ],
   "source": [
    "sorted(dPhi.items(),key= lambda x:np.abs(x[1]), reverse=True)[:11]"
   ]
  },
  {
   "cell_type": "markdown",
   "metadata": {},
   "source": [
    "In this use case, $\\delta \\Phi$ is a measure of the difference between two texts in terms of their weighted average sentiment scores. $\\delta \\Phi$ can use other weighted average measures apart from sentiment scores to create different shift graphs. The weighted average, $\\Phi$ is a measure of the average sentiment of a given text and is the sum over the sentiments of all the words in the text multiplied with their respective frequency. Given that a text contains an equal amount of words with a negative score of -X to words with a positive score X, then $\\Phi$ will be zero. In order to figure out how much difference there is in average sentiment of two different texts, we can subtract the two different $\\Phi$-values. $|\\delta \\Phi|$ will give us the difference in average sentiment of the text, whereas $\\delta \\Phi$ will also yield information about what text have a more positive sentiment on average."
   ]
  },
  {
   "cell_type": "markdown",
   "metadata": {},
   "source": [
    ">    8. Use the function ``shifterator.WeightedAvgShift`` to plot the WordShift, showing which words contributed the most to make your day of choice _d_ happier or more sad then days in the preceding 7 days. Comment on the figure. "
   ]
  },
  {
   "cell_type": "code",
   "execution_count": 17,
   "metadata": {},
   "outputs": [
    {
     "data": {
      "image/png": "[encoded data removed]",
      "text/plain": [
       "<Figure size 504x1080 with 3 Axes>"
      ]
     },
     "metadata": {
      "needs_background": "light"
     },
     "output_type": "display_data"
    }
   ],
   "source": [
    "sentiment_shift = sh.WeightedAvgShift(type2freq_1 = p_ref,\n",
    "                     type2freq_2 = p,\n",
    "                       type2score_1 = lab_dict,\n",
    "                   reference_value =5)\n",
    "\n",
    "\n",
    "sentiment_shift.get_shift_graph(detailed=True,\n",
    "                               system_names = [\"reference\",\"d\"])\n",
    "plt.show()"
   ]
  },
  {
   "cell_type": "markdown",
   "metadata": {},
   "source": [
    "The figure shows that the chosen date and the reference date have almost the same average reference score. Although the average reference score is similar, there are differences in the word used on the two days. Notably there is an increase in the frequency in which the words 'last', 'loss', 'fraud', 'never', 'stupid', 'bullshit', 'flu', 'waste', 'fail' and 'retarded' is used. All of these words contribute to a negative sentiment score and apart from 'flu' they could be words in which an election could be described. <br>\n",
    "The increase in frequency of words such as 'win', 'thank', 'votes', 'happy, 'lead' and 'great' could also be used to describe the results from the election given that your political orientation favors Biden and not Trump. \n",
    "\n",
    "There is a decrease in relative frequency of positive words like 'earnings' and 'revenue' for instance. Especially 'earnings' sees a large decrease in use between the chosen day and the preceding seven days."
   ]
  },
  {
   "cell_type": "markdown",
   "metadata": {},
   "source": [
    ">    9. How do words that you printed in step 6 relate to those shown by the WordShift? "
   ]
  },
  {
   "cell_type": "markdown",
   "metadata": {},
   "source": [
    "The words we printed in step 6 were sorted by the measure of sentiment*frequency of words sorted from highest to lowest absolute values. The Wordshift shows the words sorted in the same fashion and the first 10 words in the Wordshift is therefore the same as the words shown in step 6 (except for the words 'best' and 'happiness' which are switched around due to a rounding of the values)"
   ]
  }
 ],
 "metadata": {
  "anaconda-cloud": {},
  "kernelspec": {
   "display_name": "Python 3",
   "language": "python",
   "name": "python3"
  },
  "language_info": {
   "codemirror_mode": {
    "name": "ipython",
    "version": 3
   },
   "file_extension": ".py",
   "mimetype": "text/x-python",
   "name": "python",
   "nbconvert_exporter": "python",
   "pygments_lexer": "ipython3",
   "version": "3.8.7"
  }
 },
 "nbformat": 4,
 "nbformat_minor": 4
}
